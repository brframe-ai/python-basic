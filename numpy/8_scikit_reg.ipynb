{
  "nbformat": 4,
  "nbformat_minor": 0,
  "metadata": {
    "colab": {
      "name": "scikit_reg.ipynb",
      "version": "0.3.2",
      "provenance": []
    },
    "kernelspec": {
      "name": "python3",
      "display_name": "Python 3"
    }
  },
  "cells": [
    {
      "metadata": {
        "id": "HC7n7FsHBPs_",
        "colab_type": "code",
        "colab": {}
      },
      "cell_type": "code",
      "source": [
        "\n",
        "import matplotlib.pyplot as plt\n",
        "import numpy as np\n",
        "import numpy.random as npr\n",
        "from sklearn import datasets, linear_model\n",
        "from sklearn.metrics import mean_squared_error, r2_score\n",
        "\n",
        "datum = np.genfromtxt('cancer_data.csv',delimiter=',',dtype=np.float32, skip_header=True)\n",
        "# except header\n",
        "datum = datum[1:,:]\n",
        "\n",
        "# Shuffle\n",
        "npr.shuffle(datum)\n",
        "\n",
        "X = datum[:, :2]\n",
        "Y = datum[:, 2]\n",
        "\n",
        "train_x = X[:60]\n",
        "test_x = X[60:80]\n",
        "val_x = X[80:]\n",
        "\n",
        "train_y= Y[:60]\n",
        "test_y = Y[60:80]\n",
        "val_y = Y[80:]\n",
        "\n",
        "regr = linear_model.LinearRegression()\n",
        "regr.fit(train_x, train_y)\n",
        "test_preds = regr.predict(test_x)\n",
        "\n",
        "\n"
      ],
      "execution_count": 0,
      "outputs": []
    },
    {
      "metadata": {
        "id": "APM1VV3JBYau",
        "colab_type": "code",
        "colab": {}
      },
      "cell_type": "code",
      "source": [
        "\n",
        "fig = plt.figure()\n",
        "ax = fig.add_subplot(2,2,1)\n",
        "ax.set_xlim(0,10)\n",
        "ax.set_ylim(0,10)\n",
        "ax.set_title('Pred')\n",
        "test_preds = [0 if pred <= 0.5 else 1 for pred in test_preds]\n",
        "print(test_preds )\n",
        "pred_colors = ['b' if pred ==0 else 'r' for pred in test_preds]\n",
        "print(pred_colors )\n",
        "ax.scatter(test_x[:,0], test_x[:,1], color=pred_colors, linewidth=3)\n",
        "\n",
        "\n",
        "ax = fig.add_subplot(2,2,2)\n",
        "ax.set_xlim(0,10)\n",
        "ax.set_ylim(0,10)\n",
        "ax.set_title('True')\n",
        "y_colors = ['b' if y==0 else 'r' for y in test_y]\n",
        "ax.scatter(test_x[:,0], test_x[:,1], color=y_colors, linewidth=3)\n",
        "plt.show()\n",
        "\n",
        "acc = np.mean(np.equal(test_preds,test_y))\n",
        "print(acc)\n"
      ],
      "execution_count": 0,
      "outputs": []
    }
  ]
}