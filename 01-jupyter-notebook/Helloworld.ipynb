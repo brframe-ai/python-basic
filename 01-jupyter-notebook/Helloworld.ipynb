{
 "cells": [
  {
   "cell_type": "code",
   "execution_count": null,
   "id": "5eb5137a",
   "metadata": {},
   "outputs": [],
   "source": [
    "# 마크다운입니다 \n",
    "## 마크다운입니다 \n",
    "### 마크다운입니다 \n",
    "\n",
    "* A\n",
    "* B\n",
    "* C\n",
    "\n",
    "```python\n",
    "print('hello world')\n",
    "```\n",
    "\n",
    "<a href=\"https://azure.microsoft.com\" >Link to Azure</a>"
   ]
  },
  {
   "cell_type": "code",
   "execution_count": 5,
   "id": "4faf3454",
   "metadata": {},
   "outputs": [
    {
     "name": "stdout",
     "output_type": "stream",
     "text": [
      "hello world\n"
     ]
    }
   ],
   "source": [
    "print('hello world')"
   ]
  }
 ],
 "metadata": {
  "kernelspec": {
   "display_name": "py38_default",
   "language": "python",
   "name": "conda-env-py38_default-py"
  },
  "language_info": {
   "codemirror_mode": {
    "name": "ipython",
    "version": 3
   },
   "file_extension": ".py",
   "mimetype": "text/x-python",
   "name": "python",
   "nbconvert_exporter": "python",
   "pygments_lexer": "ipython3",
   "version": "3.8.10"
  }
 },
 "nbformat": 4,
 "nbformat_minor": 5
}
