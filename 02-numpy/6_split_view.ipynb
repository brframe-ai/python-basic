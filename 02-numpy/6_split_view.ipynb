{
  "nbformat": 4,
  "nbformat_minor": 0,
  "metadata": {
    "colab": {
      "name": "split_view.ipynb",
      "version": "0.3.2",
      "provenance": []
    },
    "kernelspec": {
      "name": "python3",
      "display_name": "Python 3"
    }
  },
  "cells": [
    {
      "metadata": {
        "id": "32LeVSSU-Q3Y",
        "colab_type": "code",
        "colab": {}
      },
      "cell_type": "code",
      "source": [
        "import numpy as np\n",
        "import numpy.random as npr\n",
        "import matplotlib.pyplot as plt\n",
        "\n",
        "\n",
        "datum = np.genfromtxt('cancer_data.csv',dtype=np.float32, delimiter=',')\n",
        "datum = datum[1:,:]\n",
        "npr.shuffle(datum)\n",
        "xs = datum[:,:2]\n",
        "ys = datum[:,-1]\n",
        "\n",
        "# train\n",
        "train_xs = xs[:60]\n",
        "train_ys = ys[:60]\n",
        "\n",
        "# test\n",
        "test_xs = xs[60:80]\n",
        "test_ys = ys[60:80]\n",
        "\n",
        "# train\n",
        "val_xs = xs[80:]\n",
        "val_ys = ys[80:]\n",
        "\n",
        "print('Train shape : {} \\t Test Shape : {} \\t Validation shape : {}'.format(\n",
        "    train_xs.shape, test_xs.shape, test_xs.shape)\n",
        ")\n",
        "\n",
        "fig = plt.figure(figsize=(10,10))\n",
        "ax = fig.add_subplot(221)\n",
        "train_colors = ['b' if label == 0 else 'r' for label in train_ys]\n",
        "ax.scatter(train_xs[:,0], train_xs[:,1], label='Train data', alpha=0.5, marker='o', c=train_colors)\n",
        "ax.set_xlabel('Tumor size')\n",
        "ax.set_ylabel('age')\n",
        "ax.set_xlim(0,10)\n",
        "ax.set_ylim(0,10)\n",
        "ax.legend()\n",
        "\n",
        "\n",
        "ax = fig.add_subplot(222)\n",
        "test_colors = ['b' if label == 0 else 'r' for label in test_ys]\n",
        "ax.scatter(test_xs[:,0], test_xs[:,1], label='Test data', alpha=0.5, marker='+', c=test_colors)\n",
        "ax.set_xlabel('Tumor size')\n",
        "ax.set_ylabel('age')\n",
        "ax.set_xlim(0,10)\n",
        "ax.set_ylim(0,10)\n",
        "ax.legend()\n",
        "\n",
        "\n",
        "ax = fig.add_subplot(223)\n",
        "val_colors = ['b' if label == 0 else 'r' for label in val_ys]\n",
        "ax.scatter(val_xs[:,0], val_xs[:,1], label='Validation data', alpha=0.5, marker='*', c=val_colors)\n",
        "ax.set_xlabel('Tumor size')\n",
        "ax.set_ylabel('age')\n",
        "ax.set_xlim(0,10)\n",
        "ax.set_ylim(0,10)\n",
        "ax.legend()\n",
        "\n",
        "fig.suptitle('Cancer Data')\n",
        "plt.show()\n"
      ],
      "execution_count": 0,
      "outputs": []
    }
  ]
}