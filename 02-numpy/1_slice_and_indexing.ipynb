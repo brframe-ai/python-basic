{
  "nbformat": 4,
  "nbformat_minor": 0,
  "metadata": {
    "colab": {
      "name": "slice.ipynb",
      "version": "0.3.2",
      "provenance": []
    },
    "kernelspec": {
      "name": "python3",
      "display_name": "Python 3"
    }
  },
  "cells": [
    {
      "metadata": {
        "id": "AZUNnhGJ41_o",
        "colab_type": "code",
        "colab": {
          "base_uri": "https://localhost:8080/",
          "height": 83
        },
        "outputId": "80b1da65-4ae7-4f98-80fc-2477a2adb1bd"
      },
      "cell_type": "code",
      "source": [
        "import numpy as np\n",
        "import numpy.random as npr\n",
        "data = np.arange(0,9,1)\n",
        "print(data)\n",
        "#s = slice(2,7,2)\n",
        "print(data[2:5])\n",
        "print(data[2:])\n",
        "print(data[2:5:2])"
      ],
      "execution_count": 1,
      "outputs": [
        {
          "output_type": "stream",
          "text": [
            "[0 1 2 3 4 5 6 7 8]\n",
            "[2 3 4]\n",
            "[2 3 4 5 6 7 8]\n",
            "[2 4]\n"
          ],
          "name": "stdout"
        }
      ]
    },
    {
      "metadata": {
        "id": "PwaTYCBB44wz",
        "colab_type": "code",
        "colab": {}
      },
      "cell_type": "code",
      "source": [
        "datum = np.genfromtxt('cancer_data.csv', delimiter=',', dtype=np.string_)\n",
        "# except header\n",
        "datum = datum[1:,:]"
      ],
      "execution_count": 0,
      "outputs": []
    },
    {
      "metadata": {
        "id": "Y2MSQWQJ4-BH",
        "colab_type": "code",
        "colab": {}
      },
      "cell_type": "code",
      "source": [
        "# Shuffle\n",
        "npr.shuffle(datum)\n",
        "\n",
        "X = datum[:, :2]\n",
        "Y = datum[:, 2]"
      ],
      "execution_count": 0,
      "outputs": []
    },
    {
      "metadata": {
        "id": "jVXIXEBp5AQG",
        "colab_type": "code",
        "colab": {}
      },
      "cell_type": "code",
      "source": [
        "# Slice\n",
        "train_x = X[:60]\n",
        "test_x = X[60:80]\n",
        "val_x = X[80:]\n",
        "\n",
        "train_y= Y[:60]\n",
        "test_Y = Y[60:80]\n",
        "val_Y = Y[80:]"
      ],
      "execution_count": 0,
      "outputs": []
    },
    {
      "metadata": {
        "id": "er-qiQIu5G1X",
        "colab_type": "code",
        "colab": {
          "base_uri": "https://localhost:8080/",
          "height": 166
        },
        "outputId": "0e6657f7-0b2f-400f-f5d9-27f1c56155ae"
      },
      "cell_type": "code",
      "source": [
        "print(train_x[3])\n",
        "print(train_x[5])\n",
        "print(train_x[7])\n",
        "print(train_x[11])\n",
        "print(train_x[[3,5,7]])\n",
        "print(train_x.dtype)\n",
        "print(test_x.dtype)"
      ],
      "execution_count": 6,
      "outputs": [
        {
          "output_type": "stream",
          "text": [
            "[b'2.301829' b'3.2399511']\n",
            "[b'4.792593' b'2.5709867']\n",
            "[b'3.5242965' b'3.7352796']\n",
            "[b'7.649406' b'8.496426']\n",
            "[[b'2.301829' b'3.2399511']\n",
            " [b'4.792593' b'2.5709867']\n",
            " [b'3.5242965' b'3.7352796']]\n",
            "|S10\n",
            "|S10\n"
          ],
          "name": "stdout"
        }
      ]
    },
    {
      "metadata": {
        "id": "cVP0Hiv15I-u",
        "colab_type": "code",
        "colab": {}
      },
      "cell_type": "code",
      "source": [
        "# Member 변수 및 함수이용해서  mean, std, min, max 을 구해봅니다.\n",
        "\n",
        "# cast np.string to np.float32 \n",
        "# 2가지 방법이 있습니다.\n",
        "print(np.asarray(train_x, np.float32))\n",
        "train_x = train_x.astype(np.float32)\n",
        "\n",
        "# mean, min, max , std\n",
        "print(train_x.mean())\n",
        "print(train_x.min())\n",
        "print(train_x.max())\n",
        "print(train_x.std())\n"
      ],
      "execution_count": 0,
      "outputs": []
    },
    {
      "metadata": {
        "id": "kc1dBRoO5Tn0",
        "colab_type": "code",
        "colab": {}
      },
      "cell_type": "code",
      "source": [
        "# test \n",
        "# cast string to float\n",
        "test_x = test_x.astype(np.float32)\n",
        "\n",
        "# mean, min, max , std\n",
        "print(test_x.mean())\n",
        "print(test_x.min())\n",
        "print(test_x.max())\n",
        "print(test_x.std())\n",
        "\n"
      ],
      "execution_count": 0,
      "outputs": []
    },
    {
      "metadata": {
        "id": "y0kByb655d98",
        "colab_type": "code",
        "colab": {}
      },
      "cell_type": "code",
      "source": [
        "# cast string to float\n",
        "val_x = val_x.astype(np.float32)\n",
        "\n",
        "# mean, min, max , std\n",
        "print(val_x.mean())\n",
        "print(val_x.min())\n",
        "print(val_x.max())\n",
        "print(val_x.std())"
      ],
      "execution_count": 0,
      "outputs": []
    },
    {
      "metadata": {
        "id": "Y6V1DSZS5yy0",
        "colab_type": "code",
        "colab": {}
      },
      "cell_type": "code",
      "source": [
        "# tumor size, age 별 mean , std, min, max 구하기 \n",
        "print('\\n')\n",
        "print(train_x[:,0].mean())\n",
        "print(train_x[:,0].min())\n",
        "print(train_x[:,0].max())\n",
        "print(train_x[:,0].std())\n",
        "\n",
        "print('\\n')\n",
        "print(train_x[:,1].mean())\n",
        "print(train_x[:,1].min())\n",
        "print(train_x[:,1].max())\n",
        "print(train_x[:,1].std())\n",
        "\n",
        "\n",
        "print('\\n')\n",
        "print(val_x[:,0].mean())\n",
        "print(val_x[:,0].min())\n",
        "print(val_x[:,0].max())\n",
        "print(val_x[:,0].std())\n",
        "\n",
        "print('\\n')\n",
        "print(val_x[:,1].mean())\n",
        "print(val_x[:,1].min())\n",
        "print(val_x[:,1].max())\n",
        "print(val_x[:,1].std())\n",
        "\n",
        "print('\\n')\n",
        "print(test_x[:,0].mean())\n",
        "print(test_x[:,0].min())\n",
        "print(test_x[:,0].max())\n",
        "print(test_x[:,0].std())\n",
        "\n",
        "print('\\n')\n",
        "print(test_x[:,1].mean())\n",
        "print(test_x[:,1].min())\n",
        "print(test_x[:,1].max())\n",
        "print(test_x[:,1].std())\n"
      ],
      "execution_count": 0,
      "outputs": []
    },
    {
      "metadata": {
        "id": "prCR8YRE6EGh",
        "colab_type": "code",
        "colab": {}
      },
      "cell_type": "code",
      "source": [
        "# Searching\n",
        "indices = np.where(train_x[:,0]>train_x.mean())[0]\n",
        "print(np.where(train_x[:,0]>train_x.mean()))\n",
        "print(train_x[indices])\n",
        "print(train_x.mean())"
      ],
      "execution_count": 0,
      "outputs": []
    }
  ]
}